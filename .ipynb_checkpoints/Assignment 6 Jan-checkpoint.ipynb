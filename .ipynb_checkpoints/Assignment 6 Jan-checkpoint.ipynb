{
 "cells": [
  {
   "cell_type": "markdown",
   "metadata": {},
   "source": [
    "### 1. Numbers to chars"
   ]
  },
  {
   "cell_type": "code",
   "execution_count": 1,
   "metadata": {},
   "outputs": [],
   "source": [
    "def get_count_of_each_char(num, count):\n",
    "    '''\n",
    "    This function takes input count of any digit and returns a list represent the count of each character made by this count\n",
    "    '''\n",
    "    ls = []\n",
    "    if num == 7 or num == 9:\n",
    "        # Because 7 and 9 both has 4 characters \n",
    "        num_4 = count // 4\n",
    "        count -= (num_4 * 4)\n",
    "        \n",
    "        num_3 = count // 3\n",
    "        count -= (num_3 * 3)\n",
    "        \n",
    "        num_2 = count // 2\n",
    "        count -= (num_2 * 2)\n",
    "        \n",
    "        num_1 = count\n",
    "        \n",
    "        ls.extend([num_1, num_2, num_3, num_4])\n",
    "        \n",
    "    else:\n",
    "        # If digit is not 7 or 9 then it has only 3 characters\n",
    "        num_3 = count // 3\n",
    "        count -= (num_3 * 3)\n",
    "        \n",
    "        num_2 = count // 2\n",
    "        count -= (num_2 * 2)\n",
    "        \n",
    "        num_1 = count\n",
    "        \n",
    "        ls.extend([num_1, num_2, num_3])\n",
    "        \n",
    "    return ls"
   ]
  },
  {
   "cell_type": "code",
   "execution_count": 2,
   "metadata": {},
   "outputs": [],
   "source": [
    "def number_to_char(input_seq):\n",
    "    \n",
    "    mapping = {2:['a', 'b', 'c'], 3:['d', 'e', 'f'], 4:['g', 'h','i'], 5:['j', 'k', 'l'], 6:['m', 'n', 'o'],\n",
    "              7:['p', 'q', 'r', 's'], 8:['t', 'u', 'v'], 9:['w', 'x', 'y', 'z']}\n",
    "    \n",
    "    \n",
    "    output = ''\n",
    "    \n",
    "    i = 0\n",
    "    count = 0\n",
    "    \n",
    "    while i < len(input_seq):\n",
    "        \n",
    "        if (i < len(input_seq) - 1) and (input_seq[i] == input_seq[i+1]):\n",
    "            i += 1\n",
    "            count += 1\n",
    "            continue\n",
    "    \n",
    "        count += 1\n",
    "        num = int(input_seq[i])\n",
    "\n",
    "        ls = get_count_of_each_char(num, count)\n",
    "        \n",
    "        # appending the characters corrosponding to count\n",
    "        for j in range(len(ls)):\n",
    "            for k in range(ls[j]):\n",
    "                output += (mapping[num][j])\n",
    "                \n",
    "                \n",
    "        i += 1\n",
    "        count = 0\n",
    "        \n",
    "    return output"
   ]
  },
  {
   "cell_type": "code",
   "execution_count": 3,
   "metadata": {},
   "outputs": [
    {
     "name": "stdout",
     "output_type": "stream",
     "text": [
      "zeke\n"
     ]
    }
   ],
   "source": [
    "print(number_to_char('9999335533'))"
   ]
  },
  {
   "cell_type": "markdown",
   "metadata": {},
   "source": [
    "### 2. Find sequence of travel"
   ]
  },
  {
   "cell_type": "code",
   "execution_count": 17,
   "metadata": {},
   "outputs": [],
   "source": [
    "def travel_sequence(tickets):\n",
    "    starting_cities = list(tickets.keys())\n",
    "    destination_cities = list(tickets.values())\n",
    "    \n",
    "    starting_point = ''\n",
    "    \n",
    "    #Looking for starting city which is not in destination city\n",
    "    for city in starting_cities:\n",
    "        if city not in destination_cities:\n",
    "            starting_point = city\n",
    "            break\n",
    "    #print(starting_point)\n",
    "    output = {}\n",
    "    \n",
    "    output[starting_point] = tickets[starting_point]\n",
    "    new_starting_point = output[starting_point]\n",
    "    \n",
    "    for i in range(1, len(tickets)): #As length of tickets and output is same\n",
    "        output[new_starting_point] = tickets[new_starting_point]\n",
    "        new_starting_point = output[new_starting_point]\n",
    "        \n",
    "    return output"
   ]
  },
  {
   "cell_type": "code",
   "execution_count": 19,
   "metadata": {},
   "outputs": [
    {
     "name": "stdout",
     "output_type": "stream",
     "text": [
      "{'Bombay': 'Delhi', 'Delhi': 'Goa', 'Goa': 'Chennai', 'Chennai': 'Banglore'}\n"
     ]
    }
   ],
   "source": [
    "print(travel_sequence({\"Chennai\":\"Banglore\",\"Bombay\":\"Delhi\",\"Goa\":\"Chennai\",\"Delhi\":\"Goa\"} ))"
   ]
  },
  {
   "cell_type": "markdown",
   "metadata": {},
   "source": [
    "### 3. Cities to State"
   ]
  },
  {
   "cell_type": "code",
   "execution_count": 9,
   "metadata": {},
   "outputs": [],
   "source": [
    "def city_with_state(states):\n",
    "    \n",
    "    cities = {}\n",
    "    \n",
    "    state_name = list(states.keys())\n",
    "    cities_name_2D = list(states.values()) #This will return 2-D list\n",
    "    \n",
    "    #Convert 2-D to 1-D\n",
    "    cities_name_1D = []\n",
    "    for ls in cities_name_2D:\n",
    "        cities_name_1D.extend(ls)\n",
    "    \n",
    "    #Find out uniques cities\n",
    "    unique_cities = set(cities_name_1D)\n",
    "    \n",
    "    for city in unique_cities:\n",
    "        ls = []\n",
    "        \n",
    "        for state in states:\n",
    "            if city in states[state]:\n",
    "                ls.append(state)\n",
    "                \n",
    "        cities[city] = ls\n",
    "        \n",
    "    return cities"
   ]
  },
  {
   "cell_type": "code",
   "execution_count": 10,
   "metadata": {},
   "outputs": [
    {
     "name": "stdout",
     "output_type": "stream",
     "text": [
      "Cities: {'Concord': ['New Hampshire', 'Massachusetts'], 'Springfield': ['Massachusetts', 'Illinois'], 'Hanover': ['New Hampshire'], 'Peoria': ['Illinois'], 'Boston': ['Massachusetts'], 'Chicago': ['Illinois']}\n"
     ]
    }
   ],
   "source": [
    "states = {'New Hampshire': ['Concord', 'Hanover'],\n",
    "          'Massachusetts': ['Boston', 'Concord', 'Springfield'],\n",
    "          'Illinois': ['Chicago', 'Springfield', 'Peoria'] }\n",
    "\n",
    "cities = city_with_state(states)\n",
    "\n",
    "print(\"Cities:\", cities)"
   ]
  },
  {
   "cell_type": "markdown",
   "metadata": {},
   "source": [
    "### 4. Check balance paranthesis"
   ]
  },
  {
   "cell_type": "code",
   "execution_count": 11,
   "metadata": {},
   "outputs": [],
   "source": [
    "def check_parantheses(string):\n",
    "    \n",
    "    parantheses = [] #List which stores opening parantheses\n",
    "    \n",
    "    for paran in string:\n",
    "        \n",
    "        if paran == '(' or paran == '{' or paran == '[':\n",
    "            #In case of opening parantheses just append in the list\n",
    "            parantheses.append(paran)\n",
    "            \n",
    "        elif (paran == ')' or paran == '}' or paran == ']') and len(parantheses) > 0:\n",
    "            last_paran = parantheses[len(parantheses) - 1]\n",
    "            \n",
    "            if paran == ')' and last_paran == '(':\n",
    "                parantheses.pop()\n",
    "            \n",
    "            elif paran == '}' and last_paran == '{':\n",
    "                parantheses.pop()\n",
    "            \n",
    "            elif paran == ']' and last_paran == '[':\n",
    "                parantheses.pop()\n",
    "            \n",
    "            else:\n",
    "                # Last opening bracket is not corrosponding to current closing bracket\n",
    "                return False\n",
    "                \n",
    "                \n",
    "        else:\n",
    "            # In case of len(parantheses) = 0 when closing parantheses orrucs, string is unbalanced\n",
    "            return False\n",
    "        \n",
    "    if len(parantheses) == 0:\n",
    "        return True\n",
    "    \n",
    "    else:\n",
    "        return False"
   ]
  },
  {
   "cell_type": "code",
   "execution_count": 12,
   "metadata": {},
   "outputs": [
    {
     "name": "stdout",
     "output_type": "stream",
     "text": [
      "True\n",
      "False\n"
     ]
    }
   ],
   "source": [
    "print(check_parantheses('()()()[]{}'))\n",
    "print(check_parantheses('{[(]}'))"
   ]
  },
  {
   "cell_type": "markdown",
   "metadata": {},
   "source": [
    "### 5. Int to roman"
   ]
  },
  {
   "cell_type": "code",
   "execution_count": 13,
   "metadata": {},
   "outputs": [],
   "source": [
    "#Let define some of the basic basic roman characters\n",
    "roman_symbols = {\n",
    "    1: 'I', 4: 'IV', 5:'V', 9: 'IX',\n",
    "    10: 'X', 40: 'XL', 50: 'L', 90:'XC',\n",
    "    100: 'C', 400:'CD', 500: 'D', 900:'CM',\n",
    "    1000:'M'\n",
    "}"
   ]
  },
  {
   "cell_type": "code",
   "execution_count": 14,
   "metadata": {},
   "outputs": [],
   "source": [
    "def int_roman(num):\n",
    "    \n",
    "    boundries = list(roman_symbols.keys()) #Takes the keys of dictionary which denotes boundries to check while converting\n",
    "    length = len(boundries)\n",
    "    \n",
    "    roman_num = ''\n",
    "    \n",
    "    for i in range(length - 1, -1, -1):\n",
    "        \n",
    "        r = num // boundries[i]\n",
    "        for j in range(r):\n",
    "            roman_num += roman_symbols[boundries[i]]  #append corrosponding roman literal \n",
    "            \n",
    "        num = num - r * boundries[i]\n",
    "        \n",
    "    return roman_num"
   ]
  },
  {
   "cell_type": "code",
   "execution_count": 15,
   "metadata": {},
   "outputs": [
    {
     "data": {
      "text/plain": [
       "'CDXLV'"
      ]
     },
     "execution_count": 15,
     "metadata": {},
     "output_type": "execute_result"
    }
   ],
   "source": [
    "int_roman(445)"
   ]
  },
  {
   "cell_type": "markdown",
   "metadata": {},
   "source": [
    "### 6. Count number of lines in Python code"
   ]
  },
  {
   "cell_type": "code",
   "execution_count": 16,
   "metadata": {},
   "outputs": [],
   "source": [
    "def count_code_lines(input_code):\n",
    "    \n",
    "    #Make list for each line\n",
    "    ls = input_code.split('\\n')\n",
    "    \n",
    "    #Removes leading spaces in each line\n",
    "    for i in range(len(ls)):\n",
    "        ls[i] = ls[i].lstrip()\n",
    "        \n",
    "    #Count valid lines\n",
    "    count_lines = 0\n",
    "    for i in range(len(ls)):\n",
    "        \n",
    "        # Skip the empty lines\n",
    "        if len(ls[i]) == 0:\n",
    "            continue\n",
    "            \n",
    "        # Skip all the comments\n",
    "        elif ls[i][0] == '#':\n",
    "            continue \n",
    "        \n",
    "        else:\n",
    "            count_lines += 1\n",
    "            \n",
    "    return count_lines"
   ]
  },
  {
   "cell_type": "code",
   "execution_count": 17,
   "metadata": {},
   "outputs": [
    {
     "name": "stdout",
     "output_type": "stream",
     "text": [
      "10\n"
     ]
    }
   ],
   "source": [
    "input_code = \"\"\"\n",
    "#Linear search implementation\n",
    "#Takes list and a key as input and returns True or False as answer\n",
    "def linear_saerch(l,key):\n",
    "    for value in l:\n",
    "        if key == value:\n",
    "            return True #Return True is key exist\n",
    "    else:\n",
    "        return False #Return False if key does not exist\n",
    "\n",
    "l = [100,200,300,400,500,600]\n",
    "key = 500\n",
    "result = linear_search(l,key)\n",
    "print(result)\n",
    "\"\"\"\n",
    "\n",
    "print(count_code_lines(input_code))"
   ]
  },
  {
   "cell_type": "markdown",
   "metadata": {},
   "source": [
    "### 7. Strength of supplied password"
   ]
  },
  {
   "cell_type": "code",
   "execution_count": 18,
   "metadata": {},
   "outputs": [],
   "source": [
    "def check_password_strength(password):\n",
    "    \n",
    "    uppercase_letters = [chr(65 + i) for i in range(26)]\n",
    "    lowercase_letters = [chr(97 + i) for i in range(26)]\n",
    "    special_chars = ['!', '&', '#', '@', '$']\n",
    "\n",
    "    if len(password) < 8:\n",
    "        return (\"Weak\", [\"The length of password must be at least 8\"])\n",
    "    \n",
    "    #Declare three boolean variable which denotes presence of uppercase, lowercase and special chars\n",
    "    hasUpper = False\n",
    "    hasLower = False\n",
    "    hasSpecial = False\n",
    "    \n",
    "    for char in password:\n",
    "        if char in uppercase_letters:\n",
    "            hasUpper = True\n",
    "        elif char in lowercase_letters:\n",
    "            hasLower = True\n",
    "        elif char in special_chars:\n",
    "            hasSpecial = True\n",
    "            \n",
    "    if hasUpper and hasLower and hasSpecial:\n",
    "        # All conditions are fulfilled\n",
    "        return (\"Strong\", [\"You can use this password\"])\n",
    "    \n",
    "    else:\n",
    "        strength = \"Weak\"\n",
    "        msg = []\n",
    "        \n",
    "        if not hasUpper:\n",
    "            msg.append('Password must contain at least 1 uppercase letter')\n",
    "        if not hasLower:\n",
    "            msg.append('Password must contain at least 1 lowercase letter')\n",
    "        if not hasSpecial:\n",
    "            msg.append('Password must contain at least 1 special character')\n",
    "            \n",
    "        return (strength, msg)"
   ]
  },
  {
   "cell_type": "code",
   "execution_count": 19,
   "metadata": {},
   "outputs": [
    {
     "name": "stdout",
     "output_type": "stream",
     "text": [
      "('Weak', ['The length of password must be at least 8'])\n",
      "('Weak', ['Password must contain at least 1 uppercase letter', 'Password must contain at least 1 special character'])\n",
      "('Strong', ['You can use this password'])\n"
     ]
    }
   ],
   "source": [
    "print(check_password_strength('abcdefg'))\n",
    "print(check_password_strength('abvnbfhjjkf'))\n",
    "print(check_password_strength('Abcd@fjjl'))"
   ]
  },
  {
   "cell_type": "markdown",
   "metadata": {},
   "source": [
    "### 8. Check if sentence is Syntactically correct or not"
   ]
  },
  {
   "cell_type": "code",
   "execution_count": 20,
   "metadata": {},
   "outputs": [],
   "source": [
    "def check_sentence(sentence):\n",
    "    \n",
    "    # Creating boolean variables for checking the specified conditions\n",
    "    startUpper = False\n",
    "    endFullStop = False\n",
    "    contSpace = False\n",
    "    contUpper = False\n",
    "    \n",
    "    length = len(sentence)\n",
    "    if sentence[length - 1] == '.':\n",
    "        endFullStop = True\n",
    "        \n",
    "    if sentence[0].isupper():\n",
    "        startUpper = True\n",
    "        \n",
    "    for i in range(length - 1):\n",
    "        if sentence[i] == ' ' and sentence[i + 1] == ' ':\n",
    "            contSpace = True\n",
    "            \n",
    "        elif sentence[i].isupper() and sentence[i+1].isupper():\n",
    "            contUpper = True\n",
    "    \n",
    "    if endFullStop and startUpper and (not contSpace) and (not contUpper):\n",
    "        return (True, [\"Sentence is syntactically correct\"])\n",
    "    \n",
    "    else:\n",
    "        res = False\n",
    "        msg = []\n",
    "        \n",
    "        if not endFullStop:\n",
    "            msg.append(\"Sentence must end with full stop\")\n",
    "        if not startUpper:\n",
    "            msg.append(\"Sentence must start with uppercase character\")\n",
    "        if contSpace:\n",
    "            msg.append(\"Sentence must not have continuous spaces\")\n",
    "        if contUpper:\n",
    "            msg.append(\"Sentence must not have continuous uppercase characters\")\n",
    "            \n",
    "        return (res, msg)"
   ]
  },
  {
   "cell_type": "code",
   "execution_count": 21,
   "metadata": {},
   "outputs": [
    {
     "name": "stdout",
     "output_type": "stream",
     "text": [
      "(True, ['Sentence is syntactically correct'])\n",
      "\n",
      "(False, ['Sentence must end with full stop', 'Sentence must start with uppercase character', 'Sentence must not have continuous spaces', 'Sentence must not have continuous uppercase characters'])\n",
      "\n",
      "(False, ['Sentence must end with full stop', 'Sentence must not have continuous spaces'])\n"
     ]
    }
   ],
   "source": [
    "print(check_sentence('My name is Achyut Saxena.'))\n",
    "print()\n",
    "print(check_sentence('my NAme  is Achyut Saxena'))\n",
    "print()\n",
    "print(check_sentence('My  name is Achyut Saxena'))"
   ]
  },
  {
   "cell_type": "markdown",
   "metadata": {},
   "source": [
    "### 9. Greatest continuous subarray of size k"
   ]
  },
  {
   "cell_type": "code",
   "execution_count": 22,
   "metadata": {},
   "outputs": [],
   "source": [
    "def isGreater(arr1, arr2):\n",
    "    #This function returns true if arr1 is greater than arr2\n",
    "    \n",
    "    for i in range(len(arr1)):\n",
    "        if arr1[i] != arr2[i]:\n",
    "            return (arr1[i] > arr2[i])\n",
    "        \n",
    "    return False"
   ]
  },
  {
   "cell_type": "code",
   "execution_count": 27,
   "metadata": {},
   "outputs": [],
   "source": [
    "def greatest_sub_array(arr, k):\n",
    "    \n",
    "    max_subarray = arr[:k] #subarray of length k starting index at 0\n",
    "    n = len(arr)\n",
    "    \n",
    "    for i in range(1, n-k+1):\n",
    "        temp_arr = arr[i:i+k] #subarray of length k starting index at i\n",
    "        \n",
    "        if isGreater(temp_arr, max_subarray):\n",
    "            max_subarray = temp_arr[:]\n",
    "            \n",
    "    return max_subarray"
   ]
  },
  {
   "cell_type": "code",
   "execution_count": 28,
   "metadata": {},
   "outputs": [
    {
     "name": "stdout",
     "output_type": "stream",
     "text": [
      "[4, 3, 2, 5]\n"
     ]
    }
   ],
   "source": [
    "arr = [1, 4, 3, 2, 5]\n",
    "k = 4\n",
    "print(greatest_sub_array(arr, k))"
   ]
  },
  {
   "cell_type": "markdown",
   "metadata": {},
   "source": [
    "### 10. Minimum elements to be delete to make sum of adjacent elements even"
   ]
  },
  {
   "cell_type": "markdown",
   "metadata": {},
   "source": [
    "Approach:\n",
    "\n",
    "1. Loop till found i such that arr[i] + arr[i+1] is odd\n",
    "2. For such i, I have two options, either I deleting ith element or (i+1)th element\n",
    "3. Solve in a recursive manner to get appropriate number of deletion"
   ]
  },
  {
   "cell_type": "code",
   "execution_count": 29,
   "metadata": {},
   "outputs": [],
   "source": [
    "def adj_sum_even(arr):\n",
    "    \n",
    "    length = len(arr)\n",
    "    \n",
    "    if length == 0:\n",
    "        return 0, arr \n",
    "    \n",
    "    res = 0\n",
    "    i = 0\n",
    "    \n",
    "    while i < (length - 1):\n",
    "\n",
    "        if (arr[i] + arr[i+1]) % 2 != 0:\n",
    "            res += 1\n",
    "            \n",
    "            iDeletion, arr1 = adj_sum_even(arr[:i] + arr[i+1:])\n",
    "            i1Deletion, arr2 = adj_sum_even(arr[:i+1] + arr[i+2:])\n",
    "            \n",
    "            if iDeletion < i1Deletion:\n",
    "                res += iDeletion\n",
    "                arr = arr1\n",
    "            else:\n",
    "                res += i1Deletion\n",
    "                arr = arr2\n",
    "                \n",
    "            length = len(arr)\n",
    "            \n",
    "        i += 1\n",
    "            \n",
    "    return (res, arr)"
   ]
  },
  {
   "cell_type": "code",
   "execution_count": 30,
   "metadata": {},
   "outputs": [
    {
     "name": "stdout",
     "output_type": "stream",
     "text": [
      "(2, [1, 3, 5])\n",
      "(0, [2, 4, 6, 8, 10])\n",
      "(1, [2, 4, 6, 8])\n",
      "(1, [2, 4, 6, 8])\n"
     ]
    }
   ],
   "source": [
    "print(adj_sum_even([1, 3, 5, 4, 2]))\n",
    "print(adj_sum_even([2, 4, 6, 8, 10]))\n",
    "print(adj_sum_even([1, 2, 4, 6, 8]))\n",
    "print(adj_sum_even([2, 1, 4, 6, 8]))"
   ]
  },
  {
   "cell_type": "code",
   "execution_count": null,
   "metadata": {},
   "outputs": [],
   "source": []
  }
 ],
 "metadata": {
  "kernelspec": {
   "display_name": "Python 3",
   "language": "python",
   "name": "python3"
  },
  "language_info": {
   "codemirror_mode": {
    "name": "ipython",
    "version": 3
   },
   "file_extension": ".py",
   "mimetype": "text/x-python",
   "name": "python",
   "nbconvert_exporter": "python",
   "pygments_lexer": "ipython3",
   "version": "3.7.5"
  }
 },
 "nbformat": 4,
 "nbformat_minor": 2
}
