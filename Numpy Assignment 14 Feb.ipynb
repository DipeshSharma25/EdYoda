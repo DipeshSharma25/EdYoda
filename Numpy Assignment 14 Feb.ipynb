{
 "cells": [
  {
   "cell_type": "code",
   "execution_count": 1,
   "metadata": {},
   "outputs": [],
   "source": [
    "import numpy as np\n",
    "import random"
   ]
  },
  {
   "cell_type": "markdown",
   "metadata": {},
   "source": [
    "#### 1. Count the number of times number appear in Array"
   ]
  },
  {
   "cell_type": "code",
   "execution_count": 2,
   "metadata": {},
   "outputs": [
    {
     "name": "stdout",
     "output_type": "stream",
     "text": [
      "1 is present 3 times\n"
     ]
    }
   ],
   "source": [
    "array = np.array([1, 2, 1, 3, 4, 1, 4])\n",
    "num_to_search = 1\n",
    "\n",
    "num_times = (array == 1).sum()\n",
    "print('{} is present {} times'.format(num_to_search, num_times))"
   ]
  },
  {
   "cell_type": "markdown",
   "metadata": {},
   "source": [
    "#### 2. Given 9 integers. Convert in 3x3 numpy array"
   ]
  },
  {
   "cell_type": "code",
   "execution_count": 15,
   "metadata": {},
   "outputs": [
    {
     "name": "stdout",
     "output_type": "stream",
     "text": [
      "Array after reshaping is\n",
      "[[1 2 3]\n",
      " [4 5 6]\n",
      " [7 8 9]]\n"
     ]
    }
   ],
   "source": [
    "numbers = [1, 2, 3, 4, 5, 6, 7, 8, 9]\n",
    "\n",
    "array = np.array(numbers).reshape((3, 3))\n",
    "print('Array after reshaping is', array, sep='\\n')"
   ]
  },
  {
   "cell_type": "markdown",
   "metadata": {},
   "source": [
    "#### 3. Find memory size of array"
   ]
  },
  {
   "cell_type": "code",
   "execution_count": 5,
   "metadata": {},
   "outputs": [
    {
     "name": "stdout",
     "output_type": "stream",
     "text": [
      "Size of array is: 16\n"
     ]
    }
   ],
   "source": [
    "array = np.array([1, 2, 3, 4])\n",
    "print('Size of array is:', len(array) * array.itemsize)"
   ]
  },
  {
   "cell_type": "markdown",
   "metadata": {},
   "source": [
    "#### Create a 2d array of size 10 by 10 with 1 on the border and 0 inside"
   ]
  },
  {
   "cell_type": "code",
   "execution_count": 14,
   "metadata": {},
   "outputs": [
    {
     "name": "stdout",
     "output_type": "stream",
     "text": [
      "Desired array is\n",
      "[[1. 1. 1. 1. 1. 1. 1. 1. 1. 1.]\n",
      " [1. 0. 0. 0. 0. 0. 0. 0. 0. 1.]\n",
      " [1. 0. 0. 0. 0. 0. 0. 0. 0. 1.]\n",
      " [1. 0. 0. 0. 0. 0. 0. 0. 0. 1.]\n",
      " [1. 0. 0. 0. 0. 0. 0. 0. 0. 1.]\n",
      " [1. 0. 0. 0. 0. 0. 0. 0. 0. 1.]\n",
      " [1. 0. 0. 0. 0. 0. 0. 0. 0. 1.]\n",
      " [1. 0. 0. 0. 0. 0. 0. 0. 0. 1.]\n",
      " [1. 0. 0. 0. 0. 0. 0. 0. 0. 1.]\n",
      " [1. 1. 1. 1. 1. 1. 1. 1. 1. 1.]]\n"
     ]
    }
   ],
   "source": [
    "array = np.zeros((10, 10))\n",
    "\n",
    "#Filling 1 on the border\n",
    "\n",
    "array[0, :] = 1 #Make each element of first row 1\n",
    "array[:, 0] = 1 #Make each element of first column 1\n",
    "array[-1, :] = 1 #Make each element of Last row 1\n",
    "array[:, -1] = 1 #Make each element of last column 1\n",
    "\n",
    "print('Desired array is', array, sep = '\\n')"
   ]
  },
  {
   "cell_type": "markdown",
   "metadata": {},
   "source": [
    "#### 5. Create a matrix 8x8 fill it with checkerboard pattern"
   ]
  },
  {
   "cell_type": "code",
   "execution_count": 21,
   "metadata": {},
   "outputs": [
    {
     "name": "stdout",
     "output_type": "stream",
     "text": [
      "Matrix in checkerboard pattern is\n",
      "[[1. 0. 1. 0. 1. 0. 1. 0.]\n",
      " [0. 1. 0. 1. 0. 1. 0. 1.]\n",
      " [1. 0. 1. 0. 1. 0. 1. 0.]\n",
      " [0. 1. 0. 1. 0. 1. 0. 1.]\n",
      " [1. 0. 1. 0. 1. 0. 1. 0.]\n",
      " [0. 1. 0. 1. 0. 1. 0. 1.]\n",
      " [1. 0. 1. 0. 1. 0. 1. 0.]\n",
      " [0. 1. 0. 1. 0. 1. 0. 1.]]\n"
     ]
    }
   ],
   "source": [
    "mat = np.zeros((8, 8))\n",
    "\n",
    "#Convert into checkerboard pattern\n",
    "\n",
    "for i in range(len(mat)):\n",
    "    if i % 2 == 0:\n",
    "        mat[i, ::2] = 1\n",
    "    else:\n",
    "        mat[i, 1::2] = 1\n",
    "\n",
    "print('Matrix in checkerboard pattern is', mat, sep='\\n')"
   ]
  },
  {
   "cell_type": "markdown",
   "metadata": {},
   "source": [
    "#### 6. Normalize a 5x5 random matrix"
   ]
  },
  {
   "cell_type": "code",
   "execution_count": 25,
   "metadata": {},
   "outputs": [
    {
     "name": "stdout",
     "output_type": "stream",
     "text": [
      "Matrix before normalization\n",
      " [[0.97521694 0.11966214 0.57488522 0.56955606 0.1484181 ]\n",
      " [0.65701219 0.83578468 0.26220137 0.95249786 0.03535124]\n",
      " [0.84921977 0.84664607 0.70223456 0.84881402 0.81945126]\n",
      " [0.09622357 0.71634478 0.27227565 0.44524543 0.46915403]\n",
      " [0.35680985 0.08814824 0.1027875  0.18796695 0.85602425]]\n",
      "\n",
      "Matrix after normalization\n",
      " [[ 1.47814872 -1.24912784  0.20199984  0.18501192 -1.15746162]\n",
      " [ 0.46379832  1.03367652 -0.79475143  1.40572646 -1.51788808]\n",
      " [ 1.07650394  1.06829969  0.60795498  1.07521053  0.98161   ]\n",
      " [-1.32384364  0.65293451 -0.76263736 -0.21125663 -0.1350425 ]\n",
      " [-0.49316528 -1.34958559 -1.3029196  -1.03139063  1.09819479]]\n"
     ]
    }
   ],
   "source": [
    "a = np.random.rand(5, 5) #Create matrix of size 5x5\n",
    "\n",
    "print('Matrix before normalization\\n', a)\n",
    "\n",
    "print()\n",
    "#Normalize the matrix\n",
    "a = (a - np.mean(a)) / np.std(a)\n",
    "\n",
    "print('Matrix after normalization\\n', a)"
   ]
  },
  {
   "cell_type": "markdown",
   "metadata": {},
   "source": [
    "#### 7. Given a 1D array in range(0,11), negate all elements which are between 3 and 8, in place"
   ]
  },
  {
   "cell_type": "code",
   "execution_count": 36,
   "metadata": {},
   "outputs": [
    {
     "name": "stdout",
     "output_type": "stream",
     "text": [
      "[ 0  1  2 -3 -4 -5 -6 -7 -8  9 10]\n"
     ]
    }
   ],
   "source": [
    "array = np.arange(0, 11)\n",
    "\n",
    "# Negate elements between 3 and 8\n",
    "array[np.logical_and(array >= 3, array <= 8)] = array[np.logical_and(array >= 3, array <= 8)] * (-1)\n",
    "print(array)"
   ]
  },
  {
   "cell_type": "markdown",
   "metadata": {},
   "source": [
    "#### 8. How to get Date of yesterday, today and tommorow"
   ]
  },
  {
   "cell_type": "code",
   "execution_count": 114,
   "metadata": {},
   "outputs": [
    {
     "name": "stdout",
     "output_type": "stream",
     "text": [
      "Today's Date  2020-02-14\n",
      "Yestraday's Date:  2020-02-13\n",
      "Tomorrow's Date:  2020-02-15\n"
     ]
    }
   ],
   "source": [
    "today     = np.datetime64('today', 'D')\n",
    "print(\"Today's Date \", today)\n",
    "\n",
    "yesterday = np.datetime64('today', 'D') - np.timedelta64(1, 'D')\n",
    "print(\"Yestraday's Date: \", yesterday)\n",
    "\n",
    "tomorrow  = np.datetime64('today', 'D') + np.timedelta64(1, 'D')\n",
    "print(\"Tomorrow's Date: \", tomorrow)"
   ]
  },
  {
   "cell_type": "markdown",
   "metadata": {},
   "source": [
    "#### 9. "
   ]
  },
  {
   "cell_type": "code",
   "execution_count": null,
   "metadata": {},
   "outputs": [],
   "source": []
  },
  {
   "cell_type": "markdown",
   "metadata": {},
   "source": [
    "#### 10. Given 1d array of ['cat','dog','rat'], genrate 100 elements of 1d array consisting of the above 3 value ?"
   ]
  },
  {
   "cell_type": "code",
   "execution_count": 43,
   "metadata": {},
   "outputs": [
    {
     "name": "stdout",
     "output_type": "stream",
     "text": [
      "Generated 100 elements are\n",
      "['rat' 'rat' 'dog' 'cat' 'dog' 'dog' 'cat' 'cat' 'rat' 'rat' 'cat' 'dog'\n",
      " 'cat' 'rat' 'rat' 'dog' 'cat' 'dog' 'cat' 'cat' 'cat' 'rat' 'rat' 'cat'\n",
      " 'dog' 'rat' 'dog' 'dog' 'cat' 'rat' 'rat' 'cat' 'cat' 'rat' 'dog' 'cat'\n",
      " 'cat' 'rat' 'rat' 'rat' 'cat' 'dog' 'rat' 'rat' 'cat' 'cat' 'rat' 'dog'\n",
      " 'rat' 'rat' 'dog' 'rat' 'dog' 'rat' 'dog' 'rat' 'cat' 'rat' 'rat' 'rat'\n",
      " 'cat' 'cat' 'dog' 'rat' 'cat' 'cat' 'dog' 'dog' 'rat' 'dog' 'cat' 'dog'\n",
      " 'rat' 'cat' 'dog' 'dog' 'cat' 'dog' 'dog' 'rat' 'dog' 'dog' 'rat' 'dog'\n",
      " 'cat' 'cat' 'dog' 'dog' 'cat' 'cat' 'dog' 'dog' 'dog' 'rat' 'rat' 'cat'\n",
      " 'dog' 'dog' 'rat' 'cat']\n"
     ]
    }
   ],
   "source": [
    "array1 = np.array(['cat', 'dog', 'rat'])\n",
    "\n",
    "array2 = np.random.choice(array1, size=100)\n",
    "\n",
    "print('Generated 100 elements are', array2, sep='\\n')"
   ]
  },
  {
   "cell_type": "markdown",
   "metadata": {},
   "source": [
    "#### 11. Create a vector of size 10 with values ranging from 0 to 1, both excluded without manually deducing the values"
   ]
  },
  {
   "cell_type": "code",
   "execution_count": 54,
   "metadata": {},
   "outputs": [
    {
     "name": "stdout",
     "output_type": "stream",
     "text": [
      "[0.79116506 0.39659001 0.77934063 0.75246681 0.39524164 0.97560043\n",
      " 0.54163603 0.83193865 0.32820827 0.19716217]\n"
     ]
    }
   ],
   "source": [
    "array = np.random.uniform(low=0, high=1, size=10)\n",
    "print(array)"
   ]
  },
  {
   "cell_type": "markdown",
   "metadata": {},
   "source": [
    "#### 12. Given a two dimensional array, how to extract unique rows?"
   ]
  },
  {
   "cell_type": "code",
   "execution_count": 58,
   "metadata": {},
   "outputs": [
    {
     "name": "stdout",
     "output_type": "stream",
     "text": [
      "Unique rows are\n",
      "[[0 0 0]\n",
      " [0 0 1]]\n"
     ]
    }
   ],
   "source": [
    "mat = np.array([[0, 0, 0], [0, 0, 1], [0, 0, 1], [0, 0, 0]])\n",
    "\n",
    "print('Unique rows are', np.unique(mat, axis=0), sep='\\n')"
   ]
  },
  {
   "cell_type": "markdown",
   "metadata": {},
   "source": [
    "#### 13.  Create a structured array with x and y coordinates covering the [0,1]x[0,1] area"
   ]
  },
  {
   "cell_type": "code",
   "execution_count": null,
   "metadata": {},
   "outputs": [],
   "source": []
  },
  {
   "cell_type": "markdown",
   "metadata": {},
   "source": [
    "#### 14. How to find the closest value (to a given scalar) in a vector?"
   ]
  },
  {
   "cell_type": "code",
   "execution_count": 59,
   "metadata": {},
   "outputs": [
    {
     "name": "stdout",
     "output_type": "stream",
     "text": [
      "Closest value to 4.01 is 4\n"
     ]
    }
   ],
   "source": [
    "array = np.array([1, 2, 3, 4, 5])\n",
    "\n",
    "k = 4.01 \n",
    "closest_value = array[np.abs(array - k).argmin()]\n",
    "\n",
    "print('Closest value to {} is {}'.format(k, closest_value))"
   ]
  },
  {
   "cell_type": "markdown",
   "metadata": {},
   "source": [
    "#### 15. Consider a random vector with shape (10,2) representing coordinates, find point by point distances. Use euclidian distance"
   ]
  },
  {
   "cell_type": "code",
   "execution_count": 64,
   "metadata": {},
   "outputs": [
    {
     "name": "stdout",
     "output_type": "stream",
     "text": [
      "Distance between all pais are\n",
      "[[0.         1.19275053 2.28822814 2.98153094 1.6697123  3.58296365\n",
      "  1.40643821 2.70006623 4.75295998 2.07967138]\n",
      " [1.19275053 0.         1.17280959 1.85450287 0.78271215 3.32255052\n",
      "  0.48652398 2.44376993 3.71246786 1.24739203]\n",
      " [2.28822814 1.17280959 0.         0.69348093 0.72034748 2.8763772\n",
      "  0.89483576 2.15056248 2.54406517 0.70546932]\n",
      " [2.98153094 1.85450287 0.69348093 0.         1.37383605 2.97572647\n",
      "  1.58334758 2.41042076 1.90362168 1.17583677]\n",
      " [1.6697123  0.78271215 0.72034748 1.37383605 0.         2.60730679\n",
      "  0.30795191 1.76403919 3.0832542  0.46780435]\n",
      " [3.58296365 3.32255052 2.8763772  2.97572647 2.60730679 0.\n",
      "  2.85109651 0.89825942 3.20130505 2.2436312 ]\n",
      " [1.40643821 0.48652398 0.89483576 1.58334758 0.30795191 2.85109651\n",
      "  0.         1.98350091 3.35783026 0.7752896 ]\n",
      " [2.70006623 2.44376993 2.15056248 2.41042076 1.76403919 0.89825942\n",
      "  1.98350091 0.         3.16445674 1.46332875]\n",
      " [4.75295998 3.71246786 2.54406517 1.90362168 3.0832542  3.20130505\n",
      "  3.35783026 3.16445674 0.         2.69920009]\n",
      " [2.07967138 1.24739203 0.70546932 1.17583677 0.46780435 2.2436312\n",
      "  0.7752896  1.46332875 2.69920009 0.        ]]\n"
     ]
    }
   ],
   "source": [
    "vect = np.random.randn(10, 2)\n",
    "\n",
    "x,y = np.atleast_2d(vect[:,0], vect[:,1])\n",
    "dist = np.sqrt( (x-x.T)**2 + (y-y.T)**2)\n",
    "print('Distance between all pais are', dist, sep='\\n')"
   ]
  },
  {
   "cell_type": "markdown",
   "metadata": {},
   "source": [
    "#### 16. Sort an array by nth column"
   ]
  },
  {
   "cell_type": "code",
   "execution_count": 69,
   "metadata": {},
   "outputs": [
    {
     "name": "stdout",
     "output_type": "stream",
     "text": [
      "array before sorting\n",
      "[[0 2 4]\n",
      " [1 0 2]\n",
      " [3 0 5]]\n",
      "Sorted array \n",
      "[[1 0 2]\n",
      " [3 0 5]\n",
      " [0 2 4]]\n"
     ]
    }
   ],
   "source": [
    "array = np.array([[0, 2, 4], [1, 0, 2], [3, 0, 5]])\n",
    "\n",
    "print('array before sorting', array, sep='\\n')\n",
    "\n",
    "n = 1 #index of column by which array need to sort\n",
    "array = array[array[:, n].argsort()]\n",
    "\n",
    "print('Sorted array ', array, sep='\\n')"
   ]
  },
  {
   "cell_type": "markdown",
   "metadata": {},
   "source": [
    "#### 17. How to tell if a given 2D array has null columns?"
   ]
  },
  {
   "cell_type": "code",
   "execution_count": 113,
   "metadata": {},
   "outputs": [
    {
     "name": "stdout",
     "output_type": "stream",
     "text": [
      "array is\n",
      "[[0 1 2]\n",
      " [2 3 4]\n",
      " [4 5 6]]\n",
      "False\n"
     ]
    }
   ],
   "source": [
    "array = np.array([[0, 1, 2], [2, 3, 4], [4, 5, 6]])\n",
    "print('array is', array, sep='\\n')\n",
    "\n",
    "#Check if it has null column\n",
    "print(not(array.any(axis=0)).any())"
   ]
  },
  {
   "cell_type": "markdown",
   "metadata": {},
   "source": [
    "#### 18. Considering a two dimensions array, how to get sum over the last two columns at once?"
   ]
  },
  {
   "cell_type": "code",
   "execution_count": 82,
   "metadata": {},
   "outputs": [
    {
     "name": "stdout",
     "output_type": "stream",
     "text": [
      "Array is\n",
      "[[1 2 3]\n",
      " [4 5 6]\n",
      " [7 8 9]]\n",
      "Sum of last two columns are 33\n"
     ]
    }
   ],
   "source": [
    "array = np.array([[1, 2, 3], [4, 5, 6], [7, 8, 9]])\n",
    "print('Array is', array, sep='\\n')\n",
    "\n",
    "print('Sum of last two columns are', np.sum(array[:, -2:]))"
   ]
  },
  {
   "cell_type": "markdown",
   "metadata": {},
   "source": [
    "#### 19. Given a 2d array of 5X5, increment 1st column by 1, second column by 2, 3rd column by 3 & so on till the last column"
   ]
  },
  {
   "cell_type": "code",
   "execution_count": 80,
   "metadata": {},
   "outputs": [
    {
     "name": "stdout",
     "output_type": "stream",
     "text": [
      "Original array\n",
      "[[0.07632668 0.09588683 0.80067939 0.92627709 0.02535678]\n",
      " [0.48484458 0.11819759 0.74460845 0.17907838 0.32692245]\n",
      " [0.59294266 0.49627088 0.66192237 0.05728352 0.18580832]\n",
      " [0.93323737 0.36892675 0.71511241 0.14900139 0.76879881]\n",
      " [0.11725968 0.95725648 0.87211013 0.16764156 0.64263774]]\n",
      "Modified array\n",
      "[[1.07632668 2.09588683 3.80067939 4.92627709 5.02535678]\n",
      " [1.48484458 2.11819759 3.74460845 4.17907838 5.32692245]\n",
      " [1.59294266 2.49627088 3.66192237 4.05728352 5.18580832]\n",
      " [1.93323737 2.36892675 3.71511241 4.14900139 5.76879881]\n",
      " [1.11725968 2.95725648 3.87211013 4.16764156 5.64263774]]\n"
     ]
    }
   ],
   "source": [
    "array = np.random.rand(5, 5)\n",
    "print('Original array', array, sep='\\n')\n",
    "#Increment values\n",
    "\n",
    "for i in range(5):\n",
    "    array[:, i] += (i+1)\n",
    "    \n",
    "print('Modified array', array, sep='\\n')"
   ]
  },
  {
   "cell_type": "markdown",
   "metadata": {},
   "source": [
    "#### 20. Given a 1d array(size 100) of boolean values, identify total number of True in it."
   ]
  },
  {
   "cell_type": "code",
   "execution_count": 76,
   "metadata": {},
   "outputs": [
    {
     "name": "stdout",
     "output_type": "stream",
     "text": [
      "Array is\n",
      "[ True  True  True False  True  True False  True  True False False  True\n",
      "  True  True  True False  True False  True  True  True  True False  True\n",
      "  True False  True False False  True  True False  True  True  True  True\n",
      " False False False  True  True False  True False False False False False\n",
      " False False  True False False  True False False  True  True False False\n",
      "  True False False  True False  True False  True  True  True  True False\n",
      " False False False  True  True  True  True False False  True  True False\n",
      "  True  True False False False False  True False False  True  True  True\n",
      " False False False False]\n",
      "\n",
      "Number of True are 51\n"
     ]
    }
   ],
   "source": [
    "array = np.random.choice([True, False], size=100)\n",
    "print('Array is', array, sep='\\n')\n",
    "print()\n",
    "print('Number of True are', np.sum(array))"
   ]
  },
  {
   "cell_type": "markdown",
   "metadata": {},
   "source": [
    "#### 21. Consider the vector [1, 2, 3, 4, 5], how to build a new vector with 3 consecutive zeros interleaved between each value?"
   ]
  },
  {
   "cell_type": "code",
   "execution_count": 106,
   "metadata": {},
   "outputs": [
    {
     "name": "stdout",
     "output_type": "stream",
     "text": [
      "New array is\n",
      "[1. 0. 0. 0. 2. 0. 0. 0. 3. 0. 0. 0. 4. 0. 0. 0. 5.]\n"
     ]
    }
   ],
   "source": [
    "vec = np.array([1, 2, 3, 4, 5])\n",
    "\n",
    "#Number of zeros \n",
    "num_zero = 12 #as 3 zeros between each element\n",
    "\n",
    "#Create array with elements num_zero + len(vec)\n",
    "new_arr = np.zeros(17)\n",
    "new_arr[::4] = vec\n",
    "\n",
    "print('New array is', new_arr, sep='\\n')"
   ]
  },
  {
   "cell_type": "markdown",
   "metadata": {},
   "source": [
    "#### 22. How to swap two rows of an array? "
   ]
  },
  {
   "cell_type": "code",
   "execution_count": 73,
   "metadata": {},
   "outputs": [
    {
     "name": "stdout",
     "output_type": "stream",
     "text": [
      "Original array is\n",
      "[[0 1 2]\n",
      " [3 4 5]\n",
      " [6 7 8]]\n",
      "Modified array is\n",
      "[[3 4 5]\n",
      " [0 1 2]\n",
      " [6 7 8]]\n"
     ]
    }
   ],
   "source": [
    "array = np.array([[0, 1, 2], [3, 4, 5], [6, 7, 8]])\n",
    "print('Original array is', array, sep='\\n')\n",
    "\n",
    "#Swap row 1 and 2\n",
    "array[[0, 1]] = array[[1, 0]]\n",
    "print('Modified array is', array, sep='\\n')"
   ]
  },
  {
   "cell_type": "markdown",
   "metadata": {},
   "source": [
    "#### 24. How to get n largest value of an array?"
   ]
  },
  {
   "cell_type": "code",
   "execution_count": 90,
   "metadata": {},
   "outputs": [
    {
     "name": "stdout",
     "output_type": "stream",
     "text": [
      "4 largest values are [6 7 8 9]\n",
      "4th largest value is 6\n"
     ]
    }
   ],
   "source": [
    "array = np.array([0, 1, 5, 2, 4, 6, 7, 8, 9])\n",
    "n = 4\n",
    "array.sort()\n",
    "print('{} largest values are {}'.format(n, array[-n:]))\n",
    "print('{}th largest value is {}'.format(n, array[-n]))"
   ]
  },
  {
   "cell_type": "markdown",
   "metadata": {},
   "source": [
    "#### 25. Given two random arrays of shape 5X5, identify the common elements between them."
   ]
  },
  {
   "cell_type": "code",
   "execution_count": 96,
   "metadata": {},
   "outputs": [
    {
     "name": "stdout",
     "output_type": "stream",
     "text": [
      "array1\n",
      "[[3 4 1 4 1]\n",
      " [4 3 2 1 4]\n",
      " [1 1 1 3 4]\n",
      " [3 2 3 1 2]\n",
      " [2 2 1 1 2]]\n",
      "array2\n",
      "[[4 1 1 3 2]\n",
      " [2 2 3 3 2]\n",
      " [4 1 2 2 4]\n",
      " [1 3 3 3 4]\n",
      " [1 1 3 2 1]]\n",
      "Common elements between arrays are [1 2 3 4]\n"
     ]
    }
   ],
   "source": [
    "array1 = np.random.randint(1, 5, size=25).reshape((5, 5))\n",
    "array2 = np.random.randint(1, 5, size=25).reshape((5, 5))\n",
    "\n",
    "print('array1', array1, sep='\\n')\n",
    "print('array2', array2, sep='\\n')\n",
    "print('Common elements between arrays are', np.intersect1d(array1, array2))"
   ]
  },
  {
   "cell_type": "markdown",
   "metadata": {},
   "source": [
    "#### 26. How to get index of top two highest value in a 1d array?"
   ]
  },
  {
   "cell_type": "code",
   "execution_count": 101,
   "metadata": {},
   "outputs": [
    {
     "name": "stdout",
     "output_type": "stream",
     "text": [
      "Array is  [  2  22  11 -11  33   7  13 872 -23]\n",
      "Index of two highest values are [7 4]\n"
     ]
    }
   ],
   "source": [
    "array = np.array([2,22,11,-11,33,7,13,872,-23])\n",
    "print('Array is ', array)\n",
    "print('Index of two highest values are', array.argsort()[-2:][::-1])"
   ]
  },
  {
   "cell_type": "code",
   "execution_count": null,
   "metadata": {},
   "outputs": [],
   "source": []
  }
 ],
 "metadata": {
  "kernelspec": {
   "display_name": "Python 3",
   "language": "python",
   "name": "python3"
  },
  "language_info": {
   "codemirror_mode": {
    "name": "ipython",
    "version": 3
   },
   "file_extension": ".py",
   "mimetype": "text/x-python",
   "name": "python",
   "nbconvert_exporter": "python",
   "pygments_lexer": "ipython3",
   "version": "3.7.5"
  }
 },
 "nbformat": 4,
 "nbformat_minor": 2
}
